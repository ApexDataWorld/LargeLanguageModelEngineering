{
 "cells": [
  {
   "cell_type": "code",
   "execution_count": null,
   "id": "74607c77-1495-4b26-a52f-556844ef0265",
   "metadata": {},
   "outputs": [],
   "source": [
    "import streamlit as st\n",
    "from document_processor import DocumentProcessor\n",
    "from chain_builder import ChainBuilder\n",
    "from tools import stock_price_tool, sentiment_tool\n",
    "from feedback_logger import FeedbackLogger"
   ]
  },
  {
   "cell_type": "code",
   "execution_count": null,
   "id": "80375a16-133d-4875-953b-fec1a5293030",
   "metadata": {},
   "outputs": [],
   "source": [
    "# Streamlit setup\n",
    "st.set_page_config(page_title=\"Conversational Document Assistant\", layout=\"wide\")\n",
    "st.title(\"📄 Conversational Document Assistant\")\n"
   ]
  },
  {
   "cell_type": "code",
   "execution_count": null,
   "id": "afd140c9-d799-4c45-9bec-4a6e2fa231ed",
   "metadata": {},
   "outputs": [],
   "source": [
    "# Initialize components\n",
    "doc_processor = DocumentProcessor()\n",
    "chain_builder = ChainBuilder()\n",
    "feedback_logger = FeedbackLogger()"
   ]
  },
  {
   "cell_type": "code",
   "execution_count": null,
   "id": "635fbc53-951f-4192-a26b-50b8c99db1dc",
   "metadata": {},
   "outputs": [],
   "source": [
    "# File upload\n",
    "uploaded_files = st.file_uploader(\"Upload documents (TXT, CSV, or PDF)\", type=[\"txt\", \"csv\", \"pdf\"], accept_multiple_files=True)\n",
    "\n"
   ]
  },
  {
   "cell_type": "code",
   "execution_count": null,
   "id": "b6a39d14-7376-4e1d-87f1-05f522f030e8",
   "metadata": {},
   "outputs": [],
   "source": [
    "# Session state for chain and chat history\n",
    "if \"chain\" not in st.session_state:\n",
    "    st.session_state.chain = None\n",
    "if \"chat_history\" not in st.session_state:\n",
    "    st.session_state.chat_history = []\n"
   ]
  },
  {
   "cell_type": "code",
   "execution_count": null,
   "id": "b42ca53b-efbb-4f94-8781-d5b8a8910dae",
   "metadata": {},
   "outputs": [],
   "source": [
    "# Process documents\n",
    "if uploaded_files and st.button(\"Process Documents\"):\n",
    "    try:\n",
    "        with st.spinner(\"Processing documents...\"):\n",
    "            file_paths = [uploaded_file.name for uploaded_file in uploaded_files]\n",
    "            documents = doc_processor.load_documents(file_paths)\n",
    "            split_docs = doc_processor.split_documents(documents)\n",
    "            vector_store = doc_processor.create_vector_store(split_docs)\n",
    "            st.session_state.chain = chain_builder.build_chain(vector_store)\n",
    "            st.success(\"Documents processed successfully!\")\n",
    "    except Exception as e:\n",
    "        st.error(f\"Error: {e}\")\n"
   ]
  },
  {
   "cell_type": "code",
   "execution_count": null,
   "id": "3d0fa3f4-0676-4613-ae53-595d12698d1a",
   "metadata": {},
   "outputs": [],
   "source": [
    "# Chat interface\n",
    "if st.session_state.chain:\n",
    "    user_input = st.text_input(\"Ask a question about the documents or use tools:\")\n",
    "    if user_input:\n",
    "        with st.spinner(\"Generating response...\"):\n",
    "            response = st.session_state.chain({\"question\": user_input})\n",
    "            st.session_state.chat_history.append((user_input, response[\"answer\"]))\n",
    "\n",
    "        # Display chat history\n",
    "        for user_query, bot_response in st.session_state.chat_history:\n",
    "            st.markdown(f\"**You**: {user_query}\")\n",
    "            st.markdown(f\"**Assistant**: {bot_response}\")\n",
    "\n",
    "        # Feedback\n",
    "        feedback = st.selectbox(\"Was this response helpful?\", [\"Yes\", \"No\", \"Somewhat\"])\n",
    "        if st.button(\"Submit Feedback\"):\n",
    "            feedback_logger.log_feedback(user_input, response[\"answer\"], feedback)\n",
    "            st.success(\"Feedback submitted!\")"
   ]
  },
  {
   "cell_type": "code",
   "execution_count": null,
   "id": "0556a2d4-3f12-4e2d-aec1-c7936fd785b4",
   "metadata": {},
   "outputs": [],
   "source": []
  },
  {
   "cell_type": "code",
   "execution_count": null,
   "id": "ed82b2b6-faf3-4208-a936-7360286ed613",
   "metadata": {},
   "outputs": [],
   "source": []
  },
  {
   "cell_type": "code",
   "execution_count": null,
   "id": "8102d699-8002-49df-b464-1836c7de6fda",
   "metadata": {},
   "outputs": [],
   "source": []
  }
 ],
 "metadata": {
  "kernelspec": {
   "display_name": "Python [conda env:base] *",
   "language": "python",
   "name": "conda-base-py"
  },
  "language_info": {
   "codemirror_mode": {
    "name": "ipython",
    "version": 3
   },
   "file_extension": ".py",
   "mimetype": "text/x-python",
   "name": "python",
   "nbconvert_exporter": "python",
   "pygments_lexer": "ipython3",
   "version": "3.12.7"
  }
 },
 "nbformat": 4,
 "nbformat_minor": 5
}
